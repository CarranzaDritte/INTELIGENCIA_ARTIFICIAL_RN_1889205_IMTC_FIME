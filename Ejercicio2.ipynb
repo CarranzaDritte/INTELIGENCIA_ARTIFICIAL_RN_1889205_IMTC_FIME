{
  "nbformat": 4,
  "nbformat_minor": 0,
  "metadata": {
    "colab": {
      "name": "Ejercicio2.py",
      "provenance": [],
      "authorship_tag": "ABX9TyPhhS9l9anPVysApGQsLuDH",
      "include_colab_link": true
    },
    "kernelspec": {
      "name": "python3",
      "display_name": "Python 3"
    },
    "language_info": {
      "name": "python"
    }
  },
  "cells": [
    {
      "cell_type": "markdown",
      "metadata": {
        "id": "view-in-github",
        "colab_type": "text"
      },
      "source": [
        "<a href=\"https://colab.research.google.com/github/CarranzaDritte/INTELIGENCIA_ARTIFICIAL_RN_1889205_IMTC_FIME/blob/master/Ejercicio2.ipynb\" target=\"_parent\"><img src=\"https://colab.research.google.com/assets/colab-badge.svg\" alt=\"Open In Colab\"/></a>"
      ]
    },
    {
      "cell_type": "markdown",
      "metadata": {
        "id": "W3TKk2j1_tYW"
      },
      "source": [
        "###ACT 4. Ejercicios de Python - parte 2"
      ]
    },
    {
      "cell_type": "markdown",
      "metadata": {
        "id": "uzXREod0_HAN"
      },
      "source": [
        "1.- Crear un programa que le pida al usuario una cadena de caracteres (string) y que imprima el mensaje indicando si la palabra es o no un palindromo. \n",
        "\n"
      ]
    },
    {
      "cell_type": "code",
      "metadata": {
        "colab": {
          "base_uri": "https://localhost:8080/"
        },
        "id": "LR2jG-KWmjAD",
        "outputId": "439c77d5-1211-43d0-fb6a-fe278bc776ac"
      },
      "source": [
        "def eva_palindromo(palabra): # definicion de la funcion que evalua si la palabra ingrsada en la variable \"palabra\" es un palindromo \n",
        "    palabra = palabra.lower() #Este comando convierte a minusculas \n",
        "    palabra = palabra.replace(' ', '')#Removemos los espacios que se tenga por el caracter vacio de modo que se puede evaluar los caracteres\n",
        "    longitud = len(palabra) #asignamos la longitud de la cadena de caracteres en esta variable\n",
        "    #Evaluamos si la suma de los caracteres es par o impar \n",
        "    if longitud % 2 == 0: #Evalua la palabra ingresada que la miotad de las dos cadenas de izqueirda a derwecha sean iguales\n",
        "        izquierda = palabra[:longitud // 2] #de la palabra se toma la division entera \n",
        "        derecha = palabra[longitud // 2:] #\n",
        "    else: \n",
        "        izquierda = palabra[:longitud // 2] #de la palabra se toma la division entera \n",
        "        derecha = palabra[longitud // 2 + 1:] #Evalua la palabra ingresada que la miotad de las dos cadenas de izqueirda a derwecha sean iguales, en caso de que sea igual determiona que si es un palindromo en caso de ser un palabra impar\n",
        "    \n",
        "    return izquierda == derecha[::-1]#Se comprueba que las 2 cadenas sena iguales con una inversion de izq a derecha slice :: \n",
        " #nos regresa un valor logico \n",
        "def responder():\n",
        "  palabra = input('Escribe una palabra ')\n",
        "  eva =eva_palindromo(palabra)\n",
        "  if eva: #eva = true entonces imprime que es un palindromo\n",
        "    palabra = str(palabra)\n",
        "    print(palabra + ' es palindromo')\n",
        "  else: #eva = false entonces imprime que no es un palindromo\n",
        "     palabra = str(palabra)\n",
        "     print(palabra + ' no es palindromo')\n",
        "\n",
        "\n",
        "responder() #Llamado de las funciones\n"
      ],
      "execution_count": 63,
      "outputs": [
        {
          "output_type": "stream",
          "text": [
            "Escribe una palabra anita lava la tina\n",
            "anita lava la tina es palindromo\n"
          ],
          "name": "stdout"
        }
      ]
    },
    {
      "cell_type": "markdown",
      "metadata": {
        "id": "cKHEQRCt_g8E"
      },
      "source": [
        "2.- Dados dos números enteros, el programa deberá regresar (imprimir) el producto de ambos. Si el producto es mayor a 846, deberá regresar la suma de ambos.  En este programa hay que crear una función. "
      ]
    },
    {
      "cell_type": "code",
      "metadata": {
        "colab": {
          "base_uri": "https://localhost:8080/"
        },
        "id": "mLQF6Gns_rMf",
        "outputId": "0151e6a5-f6b3-47bc-9f2f-365fb912384c"
      },
      "source": [
        "numero = int(input('escribe el primer numero ')) # Alamacena el primer numero ingresado por el usuario en la variable numero\n",
        "numerob= int(input('Escribe el segundo numero ')) # Alamacena el segundo numero ingresado por el usuario en la variable numerob\n",
        "# Funcion que evalua los numero para decidir que hacer al imprimir \n",
        "def proceso(numero, numerob):\n",
        "  #Variable para la evaluacion del producto\n",
        "  mult = numero * numerob\n",
        "\n",
        "  if (mult>846):\n",
        "    mult = str(mult)\n",
        "    print('Es mayor a 846 por lo tanto la multiplicacion es: '+ mult)\n",
        "  else: #No es mayor por lo tanto suma los numeros\n",
        "      sum = numero + numerob\n",
        "      sum = str(sum)\n",
        "      print('No es mayor a 846 por lo tanto la suma es: '+ sum)\n",
        "\n",
        "#llamado a la funcion \n",
        "proceso(numero, numerob)\n"
      ],
      "execution_count": null,
      "outputs": [
        {
          "output_type": "stream",
          "text": [
            "escribe el primer numero100\n",
            "Escribe el segundo numero1\n",
            "No es mayor a 846 por lo tanto la suma es: 101\n"
          ],
          "name": "stdout"
        }
      ]
    },
    {
      "cell_type": "markdown",
      "metadata": {
        "id": "fYcx579r_aDO"
      },
      "source": [
        "3.- Dada una lista de números, el programa deberá regresar True (verdadero) si el primer y último número de la lista son los mismos. En este programa también hay que crear una función. "
      ]
    },
    {
      "cell_type": "code",
      "metadata": {
        "colab": {
          "base_uri": "https://localhost:8080/"
        },
        "id": "zFP1zmUMSni-",
        "outputId": "e7162ee7-6713-475a-b70c-5870fb449a23"
      },
      "source": [
        "Lista=['Audi','Porsche','Dodge','Mitsubishi','Mazda'] #Lista predefinida\n",
        "def GettingElements():     #Funcion que obtiene los elelentos\n",
        "    primerelement=Lista[0]     #Primer elemento del objeto lista\n",
        "    ultimoelement=Lista[len(Lista)-1]     #Ultimo elemento de la lista \n",
        "\n",
        "def PrintingElements(): #funcion que imprime los resultados\n",
        "  print('//////////////////////')\n",
        "  print('Lista de elementos')\n",
        "  print(Lista)\n",
        "  print()\n",
        "  print('Primer elemento: '+primerelement)\n",
        "  print('Ultimo elemento: '+ultimoelement)\n",
        "\n",
        "#llamado de las funciones \n",
        "GettingElements()\n",
        "PrintingElements()"
      ],
      "execution_count": 58,
      "outputs": [
        {
          "output_type": "stream",
          "text": [
            "Lista de elementos\n",
            "['Audi', 'Porsche', 'Dodge', 'Mitsubishi', 'Mazda']\n",
            "\n",
            "Primer elemento: Audi\n",
            "Ultimo elemento: Mazda\n"
          ],
          "name": "stdout"
        }
      ]
    }
  ]
}