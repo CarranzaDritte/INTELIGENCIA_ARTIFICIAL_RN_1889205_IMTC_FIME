{
  "nbformat": 4,
  "nbformat_minor": 0,
  "metadata": {
    "colab": {
      "name": "Ejercicio1_IARN.py",
      "provenance": [],
      "authorship_tag": "ABX9TyNG0UMZi8AJJc0tRog+CkDD",
      "include_colab_link": true
    },
    "kernelspec": {
      "name": "python3",
      "display_name": "Python 3"
    },
    "language_info": {
      "name": "python"
    }
  },
  "cells": [
    {
      "cell_type": "markdown",
      "metadata": {
        "id": "view-in-github",
        "colab_type": "text"
      },
      "source": [
        "<a href=\"https://colab.research.google.com/github/CarranzaDritte/my_first_repo/blob/master/Ejercicio1_IARN_py.ipynb\" target=\"_parent\"><img src=\"https://colab.research.google.com/assets/colab-badge.svg\" alt=\"Open In Colab\"/></a>"
      ]
    },
    {
      "cell_type": "markdown",
      "metadata": {
        "id": "JjZH3yOK_N-i"
      },
      "source": [
        "#Ejercicio 1\n",
        "###Clase : Inteligencia Artificial\n",
        "Estos son los ejercicos basicos de Python\n"
      ]
    },
    {
      "cell_type": "code",
      "metadata": {
        "id": "zVG4Olwm-QHt",
        "colab": {
          "base_uri": "https://localhost:8080/"
        },
        "outputId": "94df837d-5b0f-4ac1-861a-96d79ed57546"
      },
      "source": [
        "if 5>2 : \n",
        " print(\"es mayor que 2\")"
      ],
      "execution_count": null,
      "outputs": [
        {
          "output_type": "stream",
          "text": [
            "es mayor que 2\n"
          ],
          "name": "stdout"
        }
      ]
    },
    {
      "cell_type": "code",
      "metadata": {
        "colab": {
          "base_uri": "https://localhost:8080/"
        },
        "id": "HgbLDMW69fXl",
        "outputId": "d16a873b-3409-481f-ce38-02cd8d46820f"
      },
      "source": [
        "print(\"si jalo!\") #si jala hermano!"
      ],
      "execution_count": null,
      "outputs": [
        {
          "output_type": "stream",
          "text": [
            "si jalo!\n"
          ],
          "name": "stdout"
        }
      ]
    },
    {
      "cell_type": "code",
      "metadata": {
        "colab": {
          "base_uri": "https://localhost:8080/"
        },
        "id": "mg2KWifs_n5E",
        "outputId": "0c7c1141-304c-49d4-95a2-2ae9753c1921"
      },
      "source": [
        "x = 5\n",
        "y = \"john\"\n",
        "print(x)\n",
        "print(y)"
      ],
      "execution_count": null,
      "outputs": [
        {
          "output_type": "stream",
          "text": [
            "5\n",
            "john\n"
          ],
          "name": "stdout"
        }
      ]
    },
    {
      "cell_type": "code",
      "metadata": {
        "colab": {
          "base_uri": "https://localhost:8080/"
        },
        "id": "r-seQv2otw1T",
        "outputId": "61b0d677-6451-470c-cd05-50b2aa3d8ac2"
      },
      "source": [
        "a=4\n",
        "A =\"Sally\"\n",
        "print(a);\n",
        "print(A);\n",
        "type(a)# imprime el tipo de dato "
      ],
      "execution_count": null,
      "outputs": [
        {
          "output_type": "stream",
          "text": [
            "4\n",
            "Sally\n"
          ],
          "name": "stdout"
        },
        {
          "output_type": "execute_result",
          "data": {
            "text/plain": [
              "str"
            ]
          },
          "metadata": {
            "tags": []
          },
          "execution_count": 7
        }
      ]
    },
    {
      "cell_type": "code",
      "metadata": {
        "colab": {
          "base_uri": "https://localhost:8080/"
        },
        "id": "Eb6RargvvIUp",
        "outputId": "3c849571-c8b3-4da3-f2da-99fc1b621cd6"
      },
      "source": [
        "print(10>9) #boolen value True or false\n",
        "print(10 == 9)\n",
        "print(10<9)"
      ],
      "execution_count": null,
      "outputs": [
        {
          "output_type": "stream",
          "text": [
            "True\n",
            "False\n",
            "False\n"
          ],
          "name": "stdout"
        }
      ]
    },
    {
      "cell_type": "code",
      "metadata": {
        "colab": {
          "base_uri": "https://localhost:8080/"
        },
        "id": "DiNdSn3dve0_",
        "outputId": "36353085-4c97-496a-d931-e10e0dced5cd"
      },
      "source": [
        "print(5%4) # calculo del modulo, residuo "
      ],
      "execution_count": null,
      "outputs": [
        {
          "output_type": "stream",
          "text": [
            "1\n"
          ],
          "name": "stdout"
        }
      ]
    },
    {
      "cell_type": "code",
      "metadata": {
        "colab": {
          "base_uri": "https://localhost:8080/"
        },
        "id": "wR6z-aqfvmJY",
        "outputId": "1d8aed2b-0ecd-4441-f6a1-4117abfd1939"
      },
      "source": [
        "x = 5\n",
        "x &=3\n",
        "print(x)"
      ],
      "execution_count": null,
      "outputs": [
        {
          "output_type": "stream",
          "text": [
            "1\n"
          ],
          "name": "stdout"
        }
      ]
    },
    {
      "cell_type": "code",
      "metadata": {
        "colab": {
          "base_uri": "https://localhost:8080/"
        },
        "id": "zbtE2BPmvqZh",
        "outputId": "b7996402-3f4b-4916-dc59-9974e021fbfe"
      },
      "source": [
        "mylist = ['audi','ford','porsche'] #creacion de un array en una variable \n",
        "print(mylist)\n",
        "print(mylist[1]) #llamado a una casilla, que imprime el dato contenido en la casilla\n",
        "print(mylist[2]) #llamado a una casilla, que imprime el dato contenido en la casilla"
      ],
      "execution_count": null,
      "outputs": [
        {
          "output_type": "stream",
          "text": [
            "['audi', 'ford', 'porsche']\n",
            "ford\n"
          ],
          "name": "stdout"
        }
      ]
    },
    {
      "cell_type": "code",
      "metadata": {
        "colab": {
          "base_uri": "https://localhost:8080/"
        },
        "id": "l8ODCkPjyI-k",
        "outputId": "c5fc30e0-cbdf-4b36-e6f9-908acda545a2"
      },
      "source": [
        "thistuple=('audi','ford','porsche') #tuple is a collection which is ordere and unchangeble once is declared written by round brackets\n",
        "print(thistuple[1])  #it allow duplicated items"
      ],
      "execution_count": null,
      "outputs": [
        {
          "output_type": "stream",
          "text": [
            "ford\n"
          ],
          "name": "stdout"
        }
      ]
    },
    {
      "cell_type": "code",
      "metadata": {
        "colab": {
          "base_uri": "https://localhost:8080/"
        },
        "id": "YB9mzMygzQOh",
        "outputId": "254281d7-aa71-43c7-a8bf-b93ee70c940b"
      },
      "source": [
        "thisset = ['audi','ford','porsche']\n",
        "print(thisset) #it doesnt have an order, cannot call an specific item"
      ],
      "execution_count": null,
      "outputs": [
        {
          "output_type": "stream",
          "text": [
            "['audi', 'ford', 'porsche']\n"
          ],
          "name": "stdout"
        }
      ]
    },
    {
      "cell_type": "code",
      "metadata": {
        "colab": {
          "base_uri": "https://localhost:8080/"
        },
        "id": "3yPNvS-vzjNC",
        "outputId": "87f4c284-a172-41fe-9271-a1e4947333c1"
      },
      "source": [
        "#Dictionary Kinda an object like C# or JS it has properties that we can call from dictionary\n",
        "thisdict= {\n",
        "    \"brand\": 'audi',\n",
        "    \"model\": 'A4',\n",
        "    \"year\": '2020'\n",
        "}\n",
        "print(thisdict['brand'])\n",
        "print(thisdict['model'])\n",
        "print(thisdict['year'])"
      ],
      "execution_count": null,
      "outputs": [
        {
          "output_type": "stream",
          "text": [
            "audi\n",
            "A4\n",
            "2020\n"
          ],
          "name": "stdout"
        }
      ]
    },
    {
      "cell_type": "code",
      "metadata": {
        "colab": {
          "base_uri": "https://localhost:8080/"
        },
        "id": "0grfbiLm0Ruc",
        "outputId": "b3378d30-8de2-4450-851e-e289245eb082"
      },
      "source": [
        "#condition statements\n",
        "# Equals: a == b\n",
        "# Not Equals: a != b\n",
        "# Less than: a < b\n",
        "# Less than or equal to: a <= b\n",
        "# Greater than: a > b\n",
        "# Greater than or equal to: a >= b\n",
        "a = 23\n",
        "b= 200\n",
        "if b>a:\n",
        "  print('b is greater') "
      ],
      "execution_count": null,
      "outputs": [
        {
          "output_type": "stream",
          "text": [
            "b is greater\n"
          ],
          "name": "stdout"
        }
      ]
    },
    {
      "cell_type": "code",
      "metadata": {
        "colab": {
          "base_uri": "https://localhost:8080/"
        },
        "id": "pACuT9uT0hEO",
        "outputId": "d7c61d09-d7df-469e-9a02-98aba5f9d6b5"
      },
      "source": [
        "a = 200\n",
        "b = 200\n",
        "if b > a:\n",
        "  print(\"b is greater than a\")\n",
        "elif a == b: #take care of the space, this cannot be insade past if\n",
        "  print(\"a and b are equal\") "
      ],
      "execution_count": null,
      "outputs": [
        {
          "output_type": "stream",
          "text": [
            "a and b are equal\n"
          ],
          "name": "stdout"
        }
      ]
    },
    {
      "cell_type": "code",
      "metadata": {
        "colab": {
          "base_uri": "https://localhost:8080/"
        },
        "id": "3KUx0I483zPI",
        "outputId": "23e5e772-f482-4c73-c827-19ff2e96655d"
      },
      "source": [
        "## WHILE LOOPS\n",
        "i = 1\n",
        "while i < 7:\n",
        "  print(i)\n",
        "  i += 1\n"
      ],
      "execution_count": null,
      "outputs": [
        {
          "output_type": "stream",
          "text": [
            "1\n",
            "2\n",
            "3\n",
            "4\n",
            "5\n",
            "6\n"
          ],
          "name": "stdout"
        }
      ]
    },
    {
      "cell_type": "code",
      "metadata": {
        "colab": {
          "base_uri": "https://localhost:8080/"
        },
        "id": "4qVcxg5s4gUO",
        "outputId": "40479861-17c5-43c9-ff02-d2abc36c17c2"
      },
      "source": [
        "i = 1  #THIS EXAMPLE SUMS IN I AND AT THE OUTPUT PRINT AN ALERT THAT GOT OUT OF CICLE WHILE\n",
        "while i < 6:\n",
        "  print(i)\n",
        "  i += 1\n",
        "else:\n",
        "  print(\"i is no longer less than 6\")"
      ],
      "execution_count": null,
      "outputs": [
        {
          "output_type": "stream",
          "text": [
            "1\n",
            "2\n",
            "3\n",
            "4\n",
            "5\n",
            "i is no longer less than 6\n"
          ],
          "name": "stdout"
        }
      ]
    },
    {
      "cell_type": "code",
      "metadata": {
        "colab": {
          "base_uri": "https://localhost:8080/"
        },
        "id": "kiIsSWbD4uoH",
        "outputId": "615c7395-0e68-4899-d822-c43006fd40c9"
      },
      "source": [
        "#LOOPS IN A ARRAY \n",
        "brands = [\"AUDI\", \"PORSCHE\", \"TESLA\"]\n",
        "for x in brands:\n",
        "  print(x)\n",
        "for x in \"PORSCHE\": #IT PRINT EACH LETTER CONTAINED IN THE WORD\n",
        "  print(x)"
      ],
      "execution_count": null,
      "outputs": [
        {
          "output_type": "stream",
          "text": [
            "AUDI\n",
            "PORSCHE\n",
            "TESLA\n",
            "P\n",
            "O\n",
            "R\n",
            "S\n",
            "C\n",
            "H\n",
            "E\n"
          ],
          "name": "stdout"
        }
      ]
    },
    {
      "cell_type": "code",
      "metadata": {
        "colab": {
          "base_uri": "https://localhost:8080/"
        },
        "id": "f4V-JpIe5PNA",
        "outputId": "642a4042-2c37-4725-e295-21e94d6bc879"
      },
      "source": [
        "brands = [\"AUDI\", \"PORSCHE\", \"TESLA\"]\n",
        "for x in brands:\n",
        "  print(x)\n",
        "  if x == \"PORSCHE\": #THIS IS WHATCHING FOR DETECT AN STOP IN A SPECIFIC DATA\n",
        "    break"
      ],
      "execution_count": null,
      "outputs": [
        {
          "output_type": "stream",
          "text": [
            "AUDI\n",
            "PORSCHE\n"
          ],
          "name": "stdout"
        }
      ]
    },
    {
      "cell_type": "code",
      "metadata": {
        "colab": {
          "base_uri": "https://localhost:8080/"
        },
        "id": "sBwHBSiS6M8O",
        "outputId": "090d782b-30df-46b3-cc81-ad681cb2d8f2"
      },
      "source": [
        "for x in range(6): #IT TURNS A COUTN TROUGH SPACES CONTAINED IN DATA UNTILL 6 SPACES\n",
        "  print(x)"
      ],
      "execution_count": null,
      "outputs": [
        {
          "output_type": "stream",
          "text": [
            "0\n",
            "1\n",
            "2\n",
            "3\n",
            "4\n",
            "5\n"
          ],
          "name": "stdout"
        }
      ]
    },
    {
      "cell_type": "code",
      "metadata": {
        "colab": {
          "base_uri": "https://localhost:8080/"
        },
        "id": "b9itqmnN6chf",
        "outputId": "89699fe2-526a-44a2-e511-7fadd706ce6f"
      },
      "source": [
        "for x in range(2, 30, 3): #IT SUMS THE LAST NUMBER IN A RANGE BETWEN THE FIRST DATAS\n",
        "  print(x)"
      ],
      "execution_count": null,
      "outputs": [
        {
          "output_type": "stream",
          "text": [
            "2\n",
            "5\n",
            "8\n",
            "11\n",
            "14\n",
            "17\n",
            "20\n",
            "23\n",
            "26\n",
            "29\n"
          ],
          "name": "stdout"
        }
      ]
    },
    {
      "cell_type": "code",
      "metadata": {
        "colab": {
          "base_uri": "https://localhost:8080/"
        },
        "id": "APfqoF906sBW",
        "outputId": "efdce093-b2f5-44e4-f058-f8b8bd5ff4cc"
      },
      "source": [
        "#CREATION OF A FUNCTION  MY FIRST FUNCTION \n",
        "def my_function():\n",
        "  print(\"Hello from a function\")\n",
        "\n",
        "#CALLING A FUNTION\n",
        "my_function()\n",
        "\n",
        "def my_function(fname, lname):  # THIS FUNCTION GETS 2 PROPERTIES FROM GLOBAL VARIABLES AND PASS THEM TROGH THE FUCNTION CONTAINED\n",
        "  print(fname + \" \" + lname)\n",
        "\n",
        "my_function(\"Emil\", \"Refsnes\")\n",
        "\n",
        "\n",
        "#IF THE NUMBER OF PARAMETER ARE UNKNOW JUST GOTTA AD AN * BEFORE THE NAME OF THE VARIABEL\n",
        "def my_function(*kids):\n",
        "  print(\"The youngest child is \" + kids[2])\n",
        "\n",
        "my_function(\"Emil\", \"Tobias\", \"Linus\")"
      ],
      "execution_count": null,
      "outputs": [
        {
          "output_type": "stream",
          "text": [
            "Hello from a function\n",
            "Emil Refsnes\n"
          ],
          "name": "stdout"
        }
      ]
    },
    {
      "cell_type": "code",
      "metadata": {
        "id": "0CPZesDRtzOL"
      },
      "source": [
        "#ESTA ES MI SEFGUNDA FUNCION EN PYTHON\n",
        "def my_function2(fname):\n",
        "  print(fname + ' Refsnes')"
      ],
      "execution_count": 6,
      "outputs": []
    },
    {
      "cell_type": "code",
      "metadata": {
        "colab": {
          "base_uri": "https://localhost:8080/"
        },
        "id": "yBf6jIY0uNeu",
        "outputId": "8cb2a5d5-b3f9-4fa3-8c25-1defe013b504"
      },
      "source": [
        "my_function2(\"Daniel\")"
      ],
      "execution_count": 7,
      "outputs": [
        {
          "output_type": "stream",
          "text": [
            "DanielRefsnes\n"
          ],
          "name": "stdout"
        }
      ]
    },
    {
      "cell_type": "code",
      "metadata": {
        "colab": {
          "base_uri": "https://localhost:8080/"
        },
        "id": "rfpl7njz71th",
        "outputId": "96dc6276-5eba-4f5a-da47-ed9b8bb9d277"
      },
      "source": [
        "#ARRAYS \n",
        "cars = [\"Ford\", \"Volvo\", \"BMW\"]\n",
        "\n",
        "x = len(cars)   #it prints the length of an array .\n",
        "print(x)\n",
        "cars[0] = \"Toyota\" #it changes the data in the space 0\n",
        "print(cars)\n"
      ],
      "execution_count": null,
      "outputs": [
        {
          "output_type": "stream",
          "text": [
            "3\n",
            "['Toyota', 'Volvo', 'BMW']\n"
          ],
          "name": "stdout"
        }
      ]
    },
    {
      "cell_type": "code",
      "metadata": {
        "colab": {
          "base_uri": "https://localhost:8080/"
        },
        "id": "mmdUGsLe8Vk1",
        "outputId": "5c68a7c1-02b1-4d75-8523-d9217340aab0"
      },
      "source": [
        "##Classes / objects\n",
        "class MyClass:\n",
        "  x = 5\n",
        "  y= 6\n",
        "\n",
        "p1 = MyClass() #a variable assign a class to print lately \n",
        "print(p1.x) #\n",
        "print(p1.y)\n"
      ],
      "execution_count": 8,
      "outputs": [
        {
          "output_type": "stream",
          "text": [
            "5\n",
            "6\n"
          ],
          "name": "stdout"
        }
      ]
    },
    {
      "cell_type": "markdown",
      "metadata": {
        "id": "xfkQVfSqLB_h"
      },
      "source": [
        "###Problemas de tarea 3\n",
        "Problema 1. Pide al usuario su nombre y edad para calcualr en que año tendrá 55 años \n",
        "\n",
        "Problema 2. Pide al usuario un numero y determina si es par o impar "
      ]
    },
    {
      "cell_type": "code",
      "metadata": {
        "colab": {
          "base_uri": "https://localhost:8080/"
        },
        "id": "tR0vQJaFtcDL",
        "outputId": "f78c203c-441a-4e6b-e423-814a53c5e5ee"
      },
      "source": [
        "username = input(\"Introduce tu nombre: \")\n",
        "age = int(input(\"introduce tu edad: \"))\n",
        "b= age\n",
        "if b>=55:\n",
        "  print('ya cumpliste 55 años')\n",
        "else :\n",
        "  year= (55-b)+2021\n",
        "  print(year)\n",
        "  year = str(year)\n",
        "  print(username+' tedrá 55 años en el año '+ year)\n",
        "\n",
        "\n",
        "print('PROBLEMA 2')\n",
        "numero = int(input(\"Introduce un numero aleatorio: \"))\n",
        "a = numero%2\n",
        "numeroimprimir= str(numero)\n",
        "if a==0:\n",
        "  print(numeroimprimir + ' es par')\n",
        "elif a!=0:\n",
        "   print(numeroimprimir + ' es inpar')"
      ],
      "execution_count": 53,
      "outputs": [
        {
          "output_type": "stream",
          "text": [
            "Introduce tu nombre: chris\n",
            "introduce tu edad: 59\n",
            "ya cumpliste 55 años\n",
            "PROBLEMA 2\n",
            "Introduce un numero aleatorio: 6\n",
            "6 es par\n"
          ],
          "name": "stdout"
        }
      ]
    }
  ]
}