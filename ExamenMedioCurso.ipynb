{
  "nbformat": 4,
  "nbformat_minor": 0,
  "metadata": {
    "colab": {
      "name": "Untitled0.ipynb",
      "provenance": [],
      "authorship_tag": "ABX9TyMcSzdtrVfDvCtFUfkWeicg",
      "include_colab_link": true
    },
    "kernelspec": {
      "name": "python3",
      "display_name": "Python 3"
    },
    "language_info": {
      "name": "python"
    }
  },
  "cells": [
    {
      "cell_type": "markdown",
      "metadata": {
        "id": "view-in-github",
        "colab_type": "text"
      },
      "source": [
        "<a href=\"https://colab.research.google.com/github/CarranzaDritte/INTELIGENCIA_ARTIFICIAL_RN_1889205_IMTC_FIME/blob/master/ExamenMedioCurso.ipynb\" target=\"_parent\"><img src=\"https://colab.research.google.com/assets/colab-badge.svg\" alt=\"Open In Colab\"/></a>"
      ]
    },
    {
      "cell_type": "markdown",
      "metadata": {
        "id": "Y85YaPEqjAKz"
      },
      "source": [
        "#Codigo Examen ordinario IA\n",
        "### Christian Eduwiges Carranza Cabrales 1889205\n",
        "Desarrollar un código en python que resuelva lo siguiente:\n",
        "El usuario dará un número al azar y el código calculará la suma de todos los números desde el 1 hasta el número dado por el usuario.\n",
        "Ejemplo: el usuario dió el número 4, el código deberá de dar como resultado 10."
      ]
    },
    {
      "cell_type": "code",
      "metadata": {
        "id": "t5bIPqWIbzpg",
        "colab": {
          "base_uri": "https://localhost:8080/"
        },
        "outputId": "1b919219-f5f5-422b-951a-9d887c25818b"
      },
      "source": [
        "n = int(input(\"Introduzca un numero \"))\n",
        "sum=0\n",
        "a=0\n",
        "while a<=n:\n",
        "  sum=sum+a\n",
        "  a +=1\n",
        "n=str(n)\n",
        "sum=str(sum)\n",
        "print(\"Numero ingresado: \"+n)\n",
        "print(\"Suma: \"+sum)"
      ],
      "execution_count": 1,
      "outputs": [
        {
          "output_type": "stream",
          "text": [
            "introduzca un numero 4\n",
            "Numero ingresado: 4\n",
            "Suma: 10\n"
          ],
          "name": "stdout"
        }
      ]
    },
    {
      "cell_type": "code",
      "metadata": {
        "id": "RaHI-nKIb8FT"
      },
      "source": [
        ""
      ],
      "execution_count": null,
      "outputs": []
    }
  ]
}